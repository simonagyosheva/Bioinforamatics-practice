{
  "nbformat": 4,
  "nbformat_minor": 0,
  "metadata": {
    "colab": {
      "provenance": [],
      "authorship_tag": "ABX9TyOpM9AI4sIvo9yOsdrQQYzM",
      "include_colab_link": true
    },
    "kernelspec": {
      "name": "python3",
      "display_name": "Python 3"
    },
    "language_info": {
      "name": "python"
    }
  },
  "cells": [
    {
      "cell_type": "markdown",
      "metadata": {
        "id": "view-in-github",
        "colab_type": "text"
      },
      "source": [
        "<a href=\"https://colab.research.google.com/github/simonagyosheva/Bioinforamatics-practice/blob/main/Day_1_Basics.ipynb\" target=\"_parent\"><img src=\"https://colab.research.google.com/assets/colab-badge.svg\" alt=\"Open In Colab\"/></a>"
      ]
    },
    {
      "cell_type": "code",
      "execution_count": null,
      "metadata": {
        "colab": {
          "base_uri": "https://localhost:8080/"
        },
        "id": "WJL6HSY0N-h2",
        "outputId": "3087d7d0-de0b-4a6e-a5d0-1ed6c7f1f2bb"
      },
      "outputs": [
        {
          "output_type": "stream",
          "name": "stdout",
          "text": [
            "DNA 42\n",
            "BRCA1\n",
            "Gene: BRCA1\n",
            "Gene: TP53\n",
            "Gene: EGFR\n",
            "10.2\n",
            "8\n",
            "2.0\n"
          ]
        }
      ],
      "source": [
        "# Python Basics\n",
        "\n",
        "# Variables\n",
        "name = \"DNA\"\n",
        "count = 42\n",
        "print(name, count)\n",
        "\n",
        "# Lists\n",
        "genes = ['BRCA1', 'TP53', 'EGFR']\n",
        "print(genes[0])\n",
        "\n",
        "# Loops\n",
        "for gene in genes:\n",
        "    print(\"Gene:\", gene)\n",
        "\n",
        "# Dictionary\n",
        "expression = {'BRCA1': 10.2, 'TP53': 8.4}\n",
        "print(expression['BRCA1'])\n",
        "\n",
        "# Function\n",
        "def add(a, b):\n",
        "    return a + b\n",
        "\n",
        "print(add(3, 5))\n",
        "\n",
        "# Numpy\n",
        "import numpy as np\n",
        "array = np.array([1, 2, 3])\n",
        "print(array.mean())\n"
      ]
    },
    {
      "cell_type": "code",
      "source": [
        "import random\n",
        "\n",
        "# Step 1: Sample and breed lists\n",
        "samples = [\"Sample1\", \"Sample2\", \"Sample3\"]\n",
        "breeds = [\"Angus\", \"Hereford\", \"Hex\"]\n",
        "\n",
        "# Step 2: Function to simulate testing (fake results)\n",
        "def test_sample_for_breed(sample, breed):\n",
        "    # Simulate detection: 70% chance of negative, 30% positive\n",
        "    result = random.choice([\"Negative\", \"Positive\"])\n",
        "    return result\n",
        "\n",
        "# Step 3: Store results in a dictionary\n",
        "results = {}\n",
        "\n",
        "for sample in samples:\n",
        "    results[sample] = {}\n",
        "    for breed in breeds:\n",
        "        result = test_sample_for_breed(sample, breed)\n",
        "        results[sample][breed] = result\n",
        "\n",
        "# Step 4: Print final report\n",
        "print(\"Breed Test Report:\")\n",
        "print(\"-\" * 30)\n",
        "for sample, breed_results in results.items():\n",
        "    print(f\"{sample}:\")\n",
        "    for breed, result in breed_results.items():\n",
        "        print(f\"  {breed}: {result}\")\n",
        "    print(\"-\" * 30)\n"
      ],
      "metadata": {
        "colab": {
          "base_uri": "https://localhost:8080/"
        },
        "id": "vPmB-irEOBsw",
        "outputId": "28d36fe2-6f15-4e1e-a157-de7b58fedcf8"
      },
      "execution_count": null,
      "outputs": [
        {
          "output_type": "stream",
          "name": "stdout",
          "text": [
            "Breed Test Report:\n",
            "------------------------------\n",
            "Sample1:\n",
            "  Angus: Negative\n",
            "  Hereford: Positive\n",
            "  Hex: Negative\n",
            "------------------------------\n",
            "Sample2:\n",
            "  Angus: Positive\n",
            "  Hereford: Positive\n",
            "  Hex: Positive\n",
            "------------------------------\n",
            "Sample3:\n",
            "  Angus: Positive\n",
            "  Hereford: Negative\n",
            "  Hex: Positive\n",
            "------------------------------\n"
          ]
        }
      ]
    }
  ]
}